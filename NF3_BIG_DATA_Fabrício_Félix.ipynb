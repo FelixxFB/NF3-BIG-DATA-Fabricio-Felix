{
  "nbformat": 4,
  "nbformat_minor": 0,
  "metadata": {
    "colab": {
      "provenance": [],
      "authorship_tag": "ABX9TyOk1SS/A3oWeZdHw3/Tu6Ts",
      "include_colab_link": true
    },
    "kernelspec": {
      "name": "python3",
      "display_name": "Python 3"
    },
    "language_info": {
      "name": "python"
    }
  },
  "cells": [
    {
      "cell_type": "markdown",
      "metadata": {
        "id": "view-in-github",
        "colab_type": "text"
      },
      "source": [
        "<a href=\"https://colab.research.google.com/github/FelixxFB/NF3-BIG-DATA-Fabricio-Felix/blob/main/NF3_BIG_DATA_Fabr%C3%ADcio_F%C3%A9lix.ipynb\" target=\"_parent\"><img src=\"https://colab.research.google.com/assets/colab-badge.svg\" alt=\"Open In Colab\"/></a>"
      ]
    },
    {
      "cell_type": "code",
      "execution_count": null,
      "metadata": {
        "id": "O44nzfgeU_Dk"
      },
      "outputs": [],
      "source": [
        "import pandas as pd\n",
        "\n",
        "#Obtendo o DataSet:\n",
        "data = pd.read_csv('https://raw.githubusercontent.com/FelixxFB/NF3-BIG-DATA-Fabricio-Felix/main/world_alcohol.csv')\n",
        "display(data)\n"
      ]
    },
    {
      "cell_type": "code",
      "source": [
        "\n",
        "#Exercicio 1\n",
        "#A- Agrupe os dados por tipo de bebidas;\n",
        "tipos_bebidas = data.groupby('Beverage Types')\n",
        "for nome_grupo, dados_grupo in tipos_bebidas:\n",
        "  print(f\"Tipo de Bebidas: {nome_grupo}\")\n",
        "  display(dados_grupo)\n"
      ],
      "metadata": {
        "id": "DfVmQ9VRIx42"
      },
      "execution_count": null,
      "outputs": []
    },
    {
      "cell_type": "code",
      "source": [
        "#Exercicio 1\n",
        "#B- Agrupe os dados por Região e por Ano;\n",
        "grupo_reg_ano = data.groupby([\"WHO region\", \"Year\"], group_keys=True).apply(lambda x: x)\n",
        "display(grupo_reg_ano)\n"
      ],
      "metadata": {
        "id": "mocNivqsKewC"
      },
      "execution_count": null,
      "outputs": []
    },
    {
      "cell_type": "code",
      "source": [
        "#Exercicio 1\n",
        "#C- Seção de Contagens: Contar a ocorrência de Regiões, de Países e a soma da coluna de valores\n",
        "#por Bebida.\n",
        "\n",
        "ocorrencia_reg = data.loc[:, [\"WHO region\", \"Country\"]].groupby(\"WHO region\").value_counts()\n",
        "somaBebidas = data.loc[:, [\"Display Value\"]].sum()\n",
        "\n",
        "display(ocorrencia_reg)\n",
        "display(somaBebidas)\n"
      ],
      "metadata": {
        "id": "Z_O7ukaaL8X2"
      },
      "execution_count": null,
      "outputs": []
    },
    {
      "cell_type": "code",
      "source": [
        "#Exercicio 1\n",
        "#D- Realize análises estatísticas da coluna dos valores: Média, Moda, Mediana, Estatística\n",
        "#Descritiva e Gráfico de comparação dos valores agrupados por tipo de bebida.\n",
        "\n",
        "import matplotlib.pyplot as plt\n",
        "\n",
        "est_bebidas = data.groupby(\"Beverage Types\")[\"Display Value\"]\n",
        "\n",
        "print(\"Média:\")\n",
        "print(est_bebidas .mean())\n",
        "\n",
        "print(\"\\nModa:\")\n",
        "print(est_bebidas .apply(lambda x: x.mode()))\n",
        "\n",
        "print(\"\\nMediana:\")\n",
        "print(est_bebidas .median())\n",
        "\n",
        "print(\"\\nEstatística Descritiva:\")\n",
        "print(est_bebidas .describe())\n",
        "\n",
        "graf_bebidas = data.groupby(\"Beverage Types\")[\"Display Value\"]\n",
        "graf_bebidas.sum().plot(kind=\"bar\")\n",
        "plt.show()\n",
        "\n"
      ],
      "metadata": {
        "id": "RwMFtrqPN3ZC"
      },
      "execution_count": null,
      "outputs": []
    },
    {
      "cell_type": "code",
      "source": [
        "#Exercicio 1\n",
        "#E- Mostre resultados de acordo com alguns critérios:\n",
        "#i. Mostrar a coluna de bebidas do ano de 1985.\n",
        "#ii. Mostrar a coluna de Região com valores acima de 4\n",
        "\n",
        "bebidas_1958 = data.loc[data['Year'] == 1985, [\"Beverage Types\"]]\n",
        "reg_quatro = data.loc[data['Display Value'] > 4, [\"WHO region\"]]\n",
        "display(bebidas_1958)\n",
        "display(reg_quatro)\n"
      ],
      "metadata": {
        "id": "XJHMTNtiOIx-"
      },
      "execution_count": null,
      "outputs": []
    },
    {
      "cell_type": "code",
      "source": [
        "#Exercicio 2\n",
        "import pandas as pd\n",
        "\n",
        "#Obtendo o DataSet:\n",
        "df = pd.read_csv('https://raw.githubusercontent.com/FelixxFB/NF3-BIG-DATA-Fabricio-Felix/main/cursos-prouni.csv')\n",
        "display(df)\n"
      ],
      "metadata": {
        "id": "MX526yj0fi9R"
      },
      "execution_count": null,
      "outputs": []
    },
    {
      "cell_type": "code",
      "source": [
        "#Exercicio 2\n",
        "#A- Efetuar a limpeza das colunas de notas: onde tiver NaN (Not a Number), substituir por 0,0.\n",
        "notas_limpas = df.replace(float('nan'), '0.0')\n",
        "display(notas_limpas)"
      ],
      "metadata": {
        "id": "V12yOHTqf_-n"
      },
      "execution_count": null,
      "outputs": []
    },
    {
      "cell_type": "code",
      "source": [
        "#Exercicio 2\n",
        "#B- Agrupe os dados pelo grau (Bacharelado, Licenciatura, etc).\n",
        "grupos_graus = df.groupby(\"grau\", group_keys = True).apply(lambda x: x)\n",
        "print(grupos_graus)\n"
      ],
      "metadata": {
        "id": "3eMyKMy7g4qI"
      },
      "execution_count": null,
      "outputs": []
    },
    {
      "cell_type": "code",
      "source": [
        "#Exercicio 2\n",
        "#C- Agrupe os dados pelos cursos de Matemática, Medicina e Pedagogia\n",
        "\n",
        "df.groupby('grau').sum()\n",
        "df[df['curso_busca'].isin(['Matemática', 'Medicina', 'Pedagogia'])].groupby('curso_busca').sum()\n"
      ],
      "metadata": {
        "id": "jkWaYr4sitxp"
      },
      "execution_count": null,
      "outputs": []
    },
    {
      "cell_type": "code",
      "source": [
        "#Exercicio 2\n",
        "#D- Agrupe os dados por Estado e obtenha a média de notas de corte por Estado.\n",
        "\n",
        "df.groupby('uf_busca')['nota_integral_cotas'].mean()"
      ],
      "metadata": {
        "id": "ChT2cguE_h0L"
      },
      "execution_count": null,
      "outputs": []
    },
    {
      "cell_type": "code",
      "source": [
        "#Exercicio 2\n",
        "#E- Agrupe os dados pelos cursos Tecnológicos.\n",
        "cursos_tec = df[df['grau'] == 'Tecnológico']\n",
        "display(cursos_tec)"
      ],
      "metadata": {
        "id": "yLTgl461_52V"
      },
      "execution_count": null,
      "outputs": []
    },
    {
      "cell_type": "code",
      "source": [
        "#Exercicio 2\n",
        "#F- Elimine a coluna “cidade_filtro” do dataframe.\n",
        "remover = df.drop(columns = [\"cidade_filtro\"])\n",
        "display(remover)"
      ],
      "metadata": {
        "id": "yfHgYHH6ARky"
      },
      "execution_count": null,
      "outputs": []
    },
    {
      "cell_type": "code",
      "source": [
        "#Exercicio 2\n",
        "#G- Apresente a média das mensalidades dos cursos de Medicina.\n",
        "med_media = df.loc[df[\"nome\"] == \"Medicina\", [\"nome\", \"mensalidade\"]].groupby(\"nome\").mean()\n",
        "\n",
        "print(f\"Mensalidade media:\\n{round(med_media,2)}\")\n"
      ],
      "metadata": {
        "id": "6repKPk2CJis"
      },
      "execution_count": null,
      "outputs": []
    },
    {
      "cell_type": "code",
      "source": [
        "#Exercicio 2\n",
        "#H- Média das notas de corte dos cursos de tempo integral.\n",
        "media_integral = df.loc[df[\"turno\"] == \"Integral\", [\"turno\",\"nota_integral_ampla\",\"nota_integral_cotas\"]].groupby(\"turno\").mean()\n",
        "\n",
        "print(round(media_integral,2))"
      ],
      "metadata": {
        "id": "iZEPyIj4Dub7"
      },
      "execution_count": null,
      "outputs": []
    },
    {
      "cell_type": "code",
      "source": [
        "#Exercicio 2\n",
        "#I- Estatística Descritiva das Notas Integral Ampla dos cursos de Bacharelado.\n",
        "\n",
        "notas_inte_amplas = df.loc[df[\"grau\"] == \"Bacharelado\", [\"grau\",\"nota_integral_ampla\"]].groupby(\"grau\").describe()\n",
        "\n",
        "print(round(notas_inte_amplas, 2))"
      ],
      "metadata": {
        "id": "Ca8EhM4MEcny"
      },
      "execution_count": null,
      "outputs": []
    },
    {
      "cell_type": "code",
      "source": [
        "#Exercicio 2\n",
        "#J- Gráfico comparativo entre o grau dos cursos (Bacharelado, Licenciatura, Tecnologia, etc) pelas Notas Integral de Cotas.\n",
        "\n",
        "import matplotlib.pyplot as plt\n",
        "\n",
        "graf_cursos = df.loc[:, [\"grau\",\"nota_integral_cotas\"]].groupby(\"grau\").mean()\n",
        "print(graf_cursos)\n",
        "\n",
        "graf = plt.plot(graf_cursos)"
      ],
      "metadata": {
        "id": "lx2l_0KTH9MT"
      },
      "execution_count": null,
      "outputs": []
    }
  ]
}